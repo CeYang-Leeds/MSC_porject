{
 "cells": [
  {
   "cell_type": "code",
   "execution_count": null,
   "id": "a2b0331c",
   "metadata": {},
   "outputs": [],
   "source": [
    "import os\n",
    "import shutil\n",
    "from tqdm import tqdm\n",
    "def execution(pyfile_name):#this function is uesd to execute the py files\n",
    "    try:\n",
    "        os.system('python ' + pyfile_name)\n",
    "    except Exception as e:\n",
    "        print(\"OS error:\" + str(e))"
   ]
  },
  {
   "cell_type": "code",
   "execution_count": null,
   "id": "d2d7fe17",
   "metadata": {},
   "outputs": [],
   "source": [
    "py_file = re.compile(\"start\")        \n",
    "noisy_file = re.compile(\"startPyquil_statevector_\") ######change  this name to pragma or statevector can execute other backends\n",
    "for i in tqdm( range(1,100) ): #####the range of number shoule be less the the numbers of folder in this peoject\n",
    "    files = os.listdir(str(i))\n",
    "    for file in files:\n",
    "        if noisy_file.search(file):\n",
    "            execution(str(i)+\"/\"+file)\n",
    "    ff=os.listdir(\".\")\n",
    "    for f in  ff:\n",
    "        if py_file.search(f) :\n",
    "            shutil.move(str(f),str(i)) \n"
   ]
  }
 ],
 "metadata": {
  "kernelspec": {
   "display_name": "Python 3 (ipykernel)",
   "language": "python",
   "name": "python3"
  },
  "language_info": {
   "codemirror_mode": {
    "name": "ipython",
    "version": 3
   },
   "file_extension": ".py",
   "mimetype": "text/x-python",
   "name": "python",
   "nbconvert_exporter": "python",
   "pygments_lexer": "ipython3",
   "version": "3.9.12"
  }
 },
 "nbformat": 4,
 "nbformat_minor": 5
}
